{
 "cells": [
  {
   "cell_type": "code",
   "execution_count": 1,
   "id": "581c8e30-3547-4753-b91b-7f4ac1975013",
   "metadata": {},
   "outputs": [
    {
     "name": "stdout",
     "output_type": "stream",
     "text": [
      "Defaulting to user installation because normal site-packages is not writeable\n",
      "Looking in links: /usr/share/pip-wheels\n",
      "Collecting pyserial\n",
      "  Downloading pyserial-3.5-py2.py3-none-any.whl.metadata (1.6 kB)\n",
      "Downloading pyserial-3.5-py2.py3-none-any.whl (90 kB)\n",
      "\u001b[2K   \u001b[38;5;70m━━━━━━━━━━━━━━━━━━━━━━━━━━━━━━━━━━━━━━━━\u001b[0m \u001b[32m90.6/90.6 kB\u001b[0m \u001b[31m1.9 MB/s\u001b[0m eta \u001b[36m0:00:00\u001b[0m.5 MB/s\u001b[0m eta \u001b[36m0:00:01\u001b[0m\n",
      "\u001b[?25hInstalling collected packages: pyserial\n",
      "\u001b[33m  WARNING: The scripts pyserial-miniterm and pyserial-ports are installed in '/home/f7b2a522-5696-4a02-a4f7-bfc9307badf8/.local/bin' which is not on PATH.\n",
      "  Consider adding this directory to PATH or, if you prefer to suppress this warning, use --no-warn-script-location.\u001b[0m\u001b[33m\n",
      "\u001b[0mSuccessfully installed pyserial-3.5\n"
     ]
    }
   ],
   "source": [
    "!pip install pyserial#installs package"
   ]
  },
  {
   "cell_type": "code",
   "execution_count": 18,
   "id": "891902d6-7169-4132-80e6-e588ef10c6e6",
   "metadata": {},
   "outputs": [
    {
     "name": "stdout",
     "output_type": "stream",
     "text": [
      "Available COM ports: []\n"
     ]
    }
   ],
   "source": [
    "import serial\n",
    "import time\n",
    "import csv\n",
    "from datetime import datetime\n",
    "import serial.tools.list_ports\n",
    "\n",
    "# List available COM ports\n",
    "print(\"Available COM ports:\", [p.device for p in serial.tools.list_ports.comports()])\n",
    "\n"
   ]
  },
  {
   "cell_type": "code",
   "execution_count": null,
   "id": "13d9f9e8-8f65-4e1e-b7ff-c3d9f3ba2a61",
   "metadata": {},
   "outputs": [],
   "source": [
    "port = 'COM9'  # Adjust as necessary\n",
    "baud = 9600\n",
    "\n",
    "try:#prevents crashes ,makes code more robust\n",
    "    ser = serial.Serial(port, baud, timeout=1)#object\n",
    "    time.sleep(2)  # Wait for Arduino to initialize\n",
    "\n",
    "    filename = \"dht11_log.csv\"#creatrs csv for analysis\n",
    "    with open(filename, \"w\", newline='') as f: #opens the file\n",
    "        writer = csv.writer(f)\n",
    "        writer.writerow([\"Timestamp\", \"Humidity\", \"Temperature\"])#creates headers\n",
    "\n",
    "        for _ in range(50):#for loop,collects 50 readings\n",
    "            try:\n",
    "                line = ser.readline().decode('utf-8', errors='ignore').strip()#reads data from arduino\n",
    "                print(f\"Raw line: {line}\")\n",
    "\n",
    "                if \"Humidity\" in line and \"Temperature\" in line:#string manipulation to isolate readings\n",
    "                    h = float(line.split(\"Humidity: \")[1].split(\" %\")[0])\n",
    "                    t = float(line.split(\"Temperature: \")[1].split(\" °C\")[0])\n",
    "                    ts = datetime.now().isoformat()\n",
    "                    writer.writerow([ts, h, t])\n",
    "                    print(f\"{ts} - {h}% - {t}°C\")\n",
    "\n",
    "            except Exception as e:\n",
    "                print(f\"Error processing line: {e}\")\n",
    "                continue\n",
    "\n",
    "    ser.close()\n",
    "\n",
    "except serial.SerialException as e:\n",
    "    print(f\"Serial port error: {e}\")"
   ]
  },
  {
   "cell_type": "code",
   "execution_count": null,
   "id": "50130cf9-1799-44a6-8f57-fe7d22ca6d59",
   "metadata": {},
   "outputs": [],
   "source": []
  }
 ],
 "metadata": {
  "kernelspec": {
   "display_name": "anaconda-2024.02-py310",
   "language": "python",
   "name": "conda-env-anaconda-2024.02-py310-py"
  },
  "language_info": {
   "codemirror_mode": {
    "name": "ipython",
    "version": 3
   },
   "file_extension": ".py",
   "mimetype": "text/x-python",
   "name": "python",
   "nbconvert_exporter": "python",
   "pygments_lexer": "ipython3",
   "version": "3.10.14"
  }
 },
 "nbformat": 4,
 "nbformat_minor": 5
}
