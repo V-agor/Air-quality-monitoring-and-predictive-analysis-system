{
 "cells": [
  {
   "cell_type": "code",
   "execution_count": 1,
   "id": "8bfda401-b03b-4094-8f16-7a87bfada7a2",
   "metadata": {},
   "outputs": [
    {
     "name": "stdout",
     "output_type": "stream",
     "text": [
      "Serial port error: could not open port 'COM9': FileNotFoundError(2, 'The system cannot find the file specified.', None, 2)\n"
     ]
    }
   ],
   "source": [
    "import serial\n",
    "import time\n",
    "import csv\n",
    "from datetime import datetime\n",
    "import matplotlib.pyplot as plt\n",
    "import pandas as pd\n",
    "\n",
    "port = 'COM9'        # Your ESP32 port\n",
    "baud = 115200        # Match Serial.begin() in Arduino\n",
    "\n",
    "def read_and_log(serial_port, baud_rate, filename=\"dht11_log.csv\", lines=50):\n",
    "    try:\n",
    "        ser = serial.Serial(serial_port, baud_rate, timeout=1)\n",
    "        time.sleep(2)  # Wait for ESP32 to reset\n",
    "\n",
    "        with open(filename, \"w\", newline='') as f:\n",
    "            writer = csv.writer(f)\n",
    "            writer.writerow([\"Timestamp\", \"Humidity\", \"Temperature\"])\n",
    "\n",
    "            for _ in range(lines):\n",
    "                line = ser.readline().decode('utf-8', errors='ignore').strip()\n",
    "                if not line or \"Failed\" in line:\n",
    "                    continue\n",
    "\n",
    "                print(f\"Raw line: {line}\")\n",
    "\n",
    "                try:\n",
    "                    # Remove spaces after commas and split\n",
    "                    parts = [p.strip() for p in line.split(\",\")]\n",
    "                    \n",
    "                    # Extract numbers\n",
    "                    humidity = float(parts[0].split(\":\")[1].replace(\"%\", \"\").strip())\n",
    "                    temperature = float(parts[1].split(\":\")[1].replace(\"°C\", \"\").strip())\n",
    "\n",
    "                    ts = datetime.now()\n",
    "                    writer.writerow([ts.isoformat(), humidity, temperature])\n",
    "                    print(f\"{ts} - Humidity: {humidity}% - Temperature: {temperature}°C\")\n",
    "\n",
    "                except (IndexError, ValueError) as e:\n",
    "                    print(f\"Parsing error on line: '{line}' -> {e}\")\n",
    "\n",
    "        ser.close()\n",
    "        print(f\"✅ Logging complete. File saved as {filename}\")\n",
    "        return filename\n",
    "\n",
    "    except serial.SerialException as e:\n",
    "        print(f\"Serial port error: {e}\")\n",
    "        return None\n",
    "\n",
    "\n",
    "def plot_data(filename):\n",
    "    try:\n",
    "        df = pd.read_csv(filename, parse_dates=[\"Timestamp\"])\n",
    "\n",
    "        plt.figure(figsize=(12, 6))\n",
    "        plt.plot(df[\"Timestamp\"], df[\"Humidity\"], label=\"Humidity (%)\", marker='o')\n",
    "        plt.plot(df[\"Timestamp\"], df[\"Temperature\"], label=\"Temperature (°C)\", marker='x')\n",
    "\n",
    "        plt.xlabel(\"Time\")\n",
    "        plt.ylabel(\"Value\")\n",
    "        plt.title(\"DHT11 Sensor Data Over Time\")\n",
    "        plt.legend()\n",
    "        plt.xticks(rotation=45)\n",
    "        plt.tight_layout()\n",
    "        plt.show()\n",
    "\n",
    "    except Exception as e:\n",
    "        print(f\"Error plotting data: {e}\")\n",
    "\n",
    "\n",
    "if __name__ == \"__main__\":\n",
    "    filename = read_and_log(port, baud, lines=100)\n",
    "    if filename:\n",
    "        plot_data(filename)"
   ]
  }
 ],
 "metadata": {
  "kernelspec": {
   "display_name": "Python 3 (ipykernel)",
   "language": "python",
   "name": "python3"
  },
  "language_info": {
   "codemirror_mode": {
    "name": "ipython",
    "version": 3
   },
   "file_extension": ".py",
   "mimetype": "text/x-python",
   "name": "python",
   "nbconvert_exporter": "python",
   "pygments_lexer": "ipython3",
   "version": "3.12.5"
  }
 },
 "nbformat": 4,
 "nbformat_minor": 5
}
